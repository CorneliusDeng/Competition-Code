{
 "cells": [
  {
   "cell_type": "code",
   "execution_count": null,
   "metadata": {},
   "outputs": [],
   "source": [
    "import pandas as pd\n",
    "from sklearn.feature_extraction import DictVectorizer\n",
    "from sklearn.ensemble import RandomForestClassifier\n",
    "from xgboost import XGBClassifier\n",
    "from sklearn.model_selection import cross_val_score, GridSearchCV"
   ]
  },
  {
   "cell_type": "code",
   "execution_count": null,
   "metadata": {},
   "outputs": [],
   "source": [
    "# 分别读取训练数据和测试数据\n",
    "train = pd.read_csv('dataset/train.csv')\n",
    "test = pd.read_csv('dataset/test.csv')\n",
    "# 测试读取是否成功\n",
    "print(train.info())\n",
    "print(test.info())"
   ]
  },
  {
   "cell_type": "code",
   "execution_count": null,
   "metadata": {},
   "outputs": [],
   "source": [
    "# 人工选取对预测有效的特征\n",
    "selected_features = ['Pclass', 'Sex', 'Age', 'Embarked', 'SibSp', 'Parch', 'Fare']\n",
    "X_train = train[selected_features]\n",
    "X_test = test[selected_features]\n",
    "y_train = train['Survived']\n",
    "# 观察得知Embarked特征值缺失，需要补充\n",
    "print(X_train['Embarked'].value_counts())\n",
    "print(X_test['Embarked'].value_counts())"
   ]
  },
  {
   "cell_type": "code",
   "execution_count": null,
   "metadata": {},
   "outputs": [],
   "source": [
    "# 对于Embarked这种类别型的特征，使用出现频率最高的特征值来填充，这是可以相对减少引入误差的方法\n",
    "X_train['Embarked'].fillna('S', inplace=True)\n",
    "X_test['Embarked'].fillna('S', inplace=True)\n",
    "\n",
    "# 对于Age这种类别型的特征，使用中位数或者平均数来填充缺失值，这也是可以相对减少引入误差的方法\n",
    "X_train['Age'].fillna(X_train['Age'].mean(), inplace=True)\n",
    "X_test['Age'].fillna(X_test['Age'].mean(), inplace=True)\n",
    "X_test['Fare'].fillna(X_test['Fare'].mean(), inplace=True)\n",
    "\n",
    "# 重新检查训练数据和测试数据，一切就绪\n",
    "print(X_train.info())\n",
    "print(X_test.info())"
   ]
  },
  {
   "cell_type": "code",
   "execution_count": null,
   "metadata": {},
   "outputs": [],
   "source": [
    "# 采用DictVectorizer对特征向量化\n",
    "dict_vec = DictVectorizer(sparse=False)\n",
    "X_train = dict_vec.fit_transform(X_train.to_dict(orient='record'))\n",
    "print(dict_vec.feature_names_)\n",
    "X_test = dict_vec.transform(X_test.to_dict(orient='record'))\n",
    "\n",
    "rfc = RandomForestClassifier()\n",
    "xgbc = XGBClassifier()"
   ]
  },
  {
   "cell_type": "code",
   "execution_count": null,
   "metadata": {},
   "outputs": [],
   "source": [
    "# 使用5折交叉验证的方法在训练集上分别对默认配置的RandomForestClassifier和XGBClassifier进行性能评估，并获取平均分类准确性的评分\n",
    "cross_val_score(rfc, X_train, y_train, cv=5).mean()\n",
    "cross_val_score(xgbc, X_train, y_train, cv=5).mean()\n",
    "\n",
    "# 使用默认的RandomForestClassifier进行预测\n",
    "rfc.fit(X_train, y_train)\n",
    "rfc_y_predict = rfc.predict(X_test)\n",
    "rfc_submission = pd.DataFrame({'PassengerId': test['PassengerId'], 'Survived': rfc_y_predict})\n",
    "# 将默认配置的RandomForestClassifier对测试数据的预测结果存储在文件rfc_submission.csv中\n",
    "rfc_submission.to_csv('dataset/rfc_submission.csv', index=False)\n",
    "\n",
    "# 使用默认的XGBClassifier进行预测\n",
    "xgbc.fit(X_train, y_train)\n",
    "xgbc_y_predict = xgbc.predict(X_test)\n",
    "xgbc_submission = pd.DataFrame({'PassengerId': test['PassengerId'], 'Survived': xgbc_y_predict})\n",
    "# 将默认配置的XGBClassifier对测试数据的预测结果存储在文件xgbc_submission.csv中\n",
    "xgbc_submission.to_csv('dataset/xgbc_submission.csv', index=False)\n",
    "\n",
    "# 使用并行网络搜索的方式寻找更好的超参数组合，以期待进一步提高XGBClassifier的预测性能\n",
    "params = {'max_depth': range(2, 7), 'n_estimators': range(100, 1100, 200), 'learning_rate': [0.05, 0.1, 0.25, 0.5, 1.0]}\n",
    "xgbc_best = XGBClassifier()\n",
    "gs = GridSearchCV(xgbc_best, params, n_jobs=-1, cv=5, verbose=1)\n",
    "gs.fit(X_train, y_train)\n",
    "\n",
    "# 查询优化后的XGBClassifier超参数配置以及交叉验证的准确性\n",
    "print(gs.best_score_)\n",
    "print(gs.best_params_)"
   ]
  },
  {
   "cell_type": "code",
   "execution_count": null,
   "metadata": {},
   "outputs": [],
   "source": [
    "# 使用经过优化超参数配置的XGBClassifier对测试数据的预测结果存储在xgbc_best_submission.csv中\n",
    "xgbc_best_y_predict = gs.predict(X_test)\n",
    "xgbc_best_submission = pd.DataFrame({'PassengerId': test['PassengerId'], 'Survived': xgbc_best_y_predict})\n",
    "xgbc_best_submission.to_csv('dataset/xgbc_best_submission.csv', index=False)"
   ]
  }
 ],
 "metadata": {
  "kernelspec": {
   "display_name": "goodjob",
   "language": "python",
   "name": "python3"
  },
  "language_info": {
   "codemirror_mode": {
    "name": "ipython",
    "version": 3
   },
   "file_extension": ".py",
   "mimetype": "text/x-python",
   "name": "python",
   "nbconvert_exporter": "python",
   "pygments_lexer": "ipython3",
   "version": "3.9.16"
  },
  "orig_nbformat": 4
 },
 "nbformat": 4,
 "nbformat_minor": 2
}
